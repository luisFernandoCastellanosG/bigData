{
  "nbformat": 4,
  "nbformat_minor": 0,
  "metadata": {
    "colab": {
      "provenance": []
    },
    "kernelspec": {
      "name": "python3",
      "display_name": "Python 3"
    },
    "language_info": {
      "name": "python"
    }
  },
  "cells": [
    {
      "cell_type": "markdown",
      "source": [
        "# Taller básico sobre MONGOdb\n",
        "----\n",
        "\n",
        "\n",
        "1.   Instalar librerías\n",
        "2.   descargar e instalar un Sevidor propio de MongoDb\n",
        "3.   Crear una Bd\n",
        "4.   Crear colecciones\n",
        "5.   descargar .zip (csv) cargarlos en una Colección\n",
        "\n"
      ],
      "metadata": {
        "id": "tHApgJCpMeC7"
      }
    },
    {
      "cell_type": "markdown",
      "source": [
        "# 1.Instalar librerías"
      ],
      "metadata": {
        "id": "SYvuSQKtNajN"
      }
    },
    {
      "cell_type": "code",
      "source": [
        "!apt update\n",
        "!apt install -y python3-pip\n",
        "!pip3 install pymongo        #libreria especial"
      ],
      "metadata": {
        "id": "EWKPxjsJNeXl"
      },
      "execution_count": null,
      "outputs": []
    },
    {
      "cell_type": "markdown",
      "source": [
        "# 2.Descargar e instalar un servidor propio de MongoDB"
      ],
      "metadata": {
        "id": "9Q9cdOcYOBks"
      }
    },
    {
      "cell_type": "code",
      "execution_count": null,
      "metadata": {
        "colab": {
          "base_uri": "https://localhost:8080/"
        },
        "id": "ZzO57EUHLNs5",
        "outputId": "bdecd0b2-8f5e-4d43-f494-fe321163a186"
      },
      "outputs": [
        {
          "output_type": "stream",
          "name": "stdout",
          "text": [
            "Reading package lists... Done\n",
            "Building dependency tree... Done\n",
            "Reading state information... Done\n",
            "curl is already the newest version (7.81.0-1ubuntu1.20).\n",
            "gnupg is already the newest version (2.2.27-3ubuntu2.4).\n",
            "gnupg set to manually installed.\n",
            "0 upgraded, 0 newly installed, 0 to remove and 45 not upgraded.\n",
            "deb [ arch=amd64,arm64 signed-by=/usr/share/keyrings/mongodb-server-6.0.gpg ] https://repo.mongodb.org/apt/ubuntu jammy/mongodb-org/6.0 multiverse\n"
          ]
        }
      ],
      "source": [
        "!sudo apt-get install -y gnupg curl\n",
        "!curl -fsSL https://pgp.mongodb.com/server-6.0.asc | sudo gpg -o /usr/share/keyrings/mongodb-server-6.0.gpg --dearmor\n",
        "!echo \"deb [ arch=amd64,arm64 signed-by=/usr/share/keyrings/mongodb-server-6.0.gpg ] https://repo.mongodb.org/apt/ubuntu jammy/mongodb-org/6.0 multiverse\" | sudo tee /etc/apt/sources.list.d/mongodb-org-6.0.list"
      ]
    },
    {
      "cell_type": "code",
      "source": [
        "!sudo apt-get update\n",
        "!sudo apt-get install -y mongodb-org"
      ],
      "metadata": {
        "colab": {
          "base_uri": "https://localhost:8080/"
        },
        "id": "6yDCwA2IQckK",
        "outputId": "23ef4da1-a499-4dd4-ab11-6afc50cb2a91"
      },
      "execution_count": null,
      "outputs": [
        {
          "output_type": "stream",
          "name": "stdout",
          "text": [
            "\r0% [Working]\r            \rHit:1 http://security.ubuntu.com/ubuntu jammy-security InRelease\n",
            "\r0% [Connecting to archive.ubuntu.com (185.125.190.82)] [Waiting for headers] [C\r                                                                               \rHit:2 https://cloud.r-project.org/bin/linux/ubuntu jammy-cran40/ InRelease\n",
            "Hit:3 https://cli.github.com/packages stable InRelease\n",
            "Hit:4 https://developer.download.nvidia.com/compute/cuda/repos/ubuntu2204/x86_64  InRelease\n",
            "Hit:5 https://r2u.stat.illinois.edu/ubuntu jammy InRelease\n",
            "Hit:6 http://archive.ubuntu.com/ubuntu jammy InRelease\n",
            "Hit:7 http://archive.ubuntu.com/ubuntu jammy-updates InRelease\n",
            "Get:8 https://repo.mongodb.org/apt/ubuntu jammy/mongodb-org/6.0 InRelease [4,009 B]\n",
            "Hit:9 http://archive.ubuntu.com/ubuntu jammy-backports InRelease\n",
            "Hit:10 https://ppa.launchpadcontent.net/deadsnakes/ppa/ubuntu jammy InRelease\n",
            "Hit:11 https://ppa.launchpadcontent.net/graphics-drivers/ppa/ubuntu jammy InRelease\n",
            "Hit:12 https://ppa.launchpadcontent.net/ubuntugis/ppa/ubuntu jammy InRelease\n",
            "Get:13 https://repo.mongodb.org/apt/ubuntu jammy/mongodb-org/6.0/multiverse amd64 Packages [108 kB]\n",
            "Get:14 https://repo.mongodb.org/apt/ubuntu jammy/mongodb-org/6.0/multiverse arm64 Packages [104 kB]\n",
            "Fetched 216 kB in 1s (179 kB/s)\n",
            "Reading package lists... Done\n",
            "W: Skipping acquire of configured file 'main/source/Sources' as repository 'https://r2u.stat.illinois.edu/ubuntu jammy InRelease' does not seem to provide it (sources.list entry misspelt?)\n",
            "Reading package lists... Done\n",
            "Building dependency tree... Done\n",
            "Reading state information... Done\n",
            "The following additional packages will be installed:\n",
            "  mongodb-database-tools mongodb-mongosh mongodb-org-database\n",
            "  mongodb-org-database-tools-extra mongodb-org-mongos mongodb-org-server\n",
            "  mongodb-org-shell mongodb-org-tools\n",
            "The following NEW packages will be installed:\n",
            "  mongodb-database-tools mongodb-mongosh mongodb-org mongodb-org-database\n",
            "  mongodb-org-database-tools-extra mongodb-org-mongos mongodb-org-server\n",
            "  mongodb-org-shell mongodb-org-tools\n",
            "0 upgraded, 9 newly installed, 0 to remove and 45 not upgraded.\n",
            "Need to get 171 MB of archives.\n",
            "After this operation, 533 MB of additional disk space will be used.\n",
            "Get:1 https://repo.mongodb.org/apt/ubuntu jammy/mongodb-org/6.0/multiverse amd64 mongodb-database-tools amd64 100.13.0 [58.9 MB]\n",
            "Get:2 https://repo.mongodb.org/apt/ubuntu jammy/mongodb-org/6.0/multiverse amd64 mongodb-mongosh amd64 2.5.8 [57.9 MB]\n",
            "Get:3 https://repo.mongodb.org/apt/ubuntu jammy/mongodb-org/6.0/multiverse amd64 mongodb-org-shell amd64 6.0.26 [2,988 B]\n",
            "Get:4 https://repo.mongodb.org/apt/ubuntu jammy/mongodb-org/6.0/multiverse amd64 mongodb-org-server amd64 6.0.26 [31.7 MB]\n",
            "Get:5 https://repo.mongodb.org/apt/ubuntu jammy/mongodb-org/6.0/multiverse amd64 mongodb-org-mongos amd64 6.0.26 [22.7 MB]\n",
            "Get:6 https://repo.mongodb.org/apt/ubuntu jammy/mongodb-org/6.0/multiverse amd64 mongodb-org-database-tools-extra amd64 6.0.26 [7,776 B]\n",
            "Get:7 https://repo.mongodb.org/apt/ubuntu jammy/mongodb-org/6.0/multiverse amd64 mongodb-org-database amd64 6.0.26 [3,422 B]\n",
            "Get:8 https://repo.mongodb.org/apt/ubuntu jammy/mongodb-org/6.0/multiverse amd64 mongodb-org-tools amd64 6.0.26 [2,770 B]\n",
            "Get:9 https://repo.mongodb.org/apt/ubuntu jammy/mongodb-org/6.0/multiverse amd64 mongodb-org amd64 6.0.26 [2,802 B]\n",
            "Fetched 171 MB in 4s (46.8 MB/s)\n",
            "debconf: unable to initialize frontend: Dialog\n",
            "debconf: (No usable dialog-like program is installed, so the dialog based frontend cannot be used. at /usr/share/perl5/Debconf/FrontEnd/Dialog.pm line 78, <> line 9.)\n",
            "debconf: falling back to frontend: Readline\n",
            "debconf: unable to initialize frontend: Readline\n",
            "debconf: (This frontend requires a controlling tty.)\n",
            "debconf: falling back to frontend: Teletype\n",
            "dpkg-preconfigure: unable to re-open stdin: \n",
            "Selecting previously unselected package mongodb-database-tools.\n",
            "(Reading database ... 127317 files and directories currently installed.)\n",
            "Preparing to unpack .../0-mongodb-database-tools_100.13.0_amd64.deb ...\n",
            "Unpacking mongodb-database-tools (100.13.0) ...\n",
            "Selecting previously unselected package mongodb-mongosh.\n",
            "Preparing to unpack .../1-mongodb-mongosh_2.5.8_amd64.deb ...\n",
            "Unpacking mongodb-mongosh (2.5.8) ...\n",
            "Selecting previously unselected package mongodb-org-shell.\n",
            "Preparing to unpack .../2-mongodb-org-shell_6.0.26_amd64.deb ...\n",
            "Unpacking mongodb-org-shell (6.0.26) ...\n",
            "Selecting previously unselected package mongodb-org-server.\n",
            "Preparing to unpack .../3-mongodb-org-server_6.0.26_amd64.deb ...\n",
            "Unpacking mongodb-org-server (6.0.26) ...\n",
            "Selecting previously unselected package mongodb-org-mongos.\n",
            "Preparing to unpack .../4-mongodb-org-mongos_6.0.26_amd64.deb ...\n",
            "Unpacking mongodb-org-mongos (6.0.26) ...\n",
            "Selecting previously unselected package mongodb-org-database-tools-extra.\n",
            "Preparing to unpack .../5-mongodb-org-database-tools-extra_6.0.26_amd64.deb ...\n",
            "Unpacking mongodb-org-database-tools-extra (6.0.26) ...\n",
            "Selecting previously unselected package mongodb-org-database.\n",
            "Preparing to unpack .../6-mongodb-org-database_6.0.26_amd64.deb ...\n",
            "Unpacking mongodb-org-database (6.0.26) ...\n",
            "Selecting previously unselected package mongodb-org-tools.\n",
            "Preparing to unpack .../7-mongodb-org-tools_6.0.26_amd64.deb ...\n",
            "Unpacking mongodb-org-tools (6.0.26) ...\n",
            "Selecting previously unselected package mongodb-org.\n",
            "Preparing to unpack .../8-mongodb-org_6.0.26_amd64.deb ...\n",
            "Unpacking mongodb-org (6.0.26) ...\n",
            "Setting up mongodb-mongosh (2.5.8) ...\n",
            "Setting up mongodb-org-server (6.0.26) ...\n",
            "Adding system user `mongodb' (UID 104) ...\n",
            "Adding new user `mongodb' (UID 104) with group `nogroup' ...\n",
            "Not creating home directory `/home/mongodb'.\n",
            "Adding group `mongodb' (GID 107) ...\n",
            "Done.\n",
            "Adding user `mongodb' to group `mongodb' ...\n",
            "Adding user mongodb to group mongodb\n",
            "Done.\n",
            "System has not been booted with systemd as init system (PID 1). Can't operate.\n",
            "Failed to connect to bus: Host is down\n",
            "Setting up mongodb-org-shell (6.0.26) ...\n",
            "Setting up mongodb-database-tools (100.13.0) ...\n",
            "Setting up mongodb-org-mongos (6.0.26) ...\n",
            "Setting up mongodb-org-database-tools-extra (6.0.26) ...\n",
            "Setting up mongodb-org-database (6.0.26) ...\n",
            "Setting up mongodb-org-tools (6.0.26) ...\n",
            "Setting up mongodb-org (6.0.26) ...\n",
            "Processing triggers for man-db (2.10.2-1) ...\n"
          ]
        }
      ]
    },
    {
      "cell_type": "markdown",
      "source": [
        "## 2.1 isntalar mongoDB en carpeta de google drive"
      ],
      "metadata": {
        "id": "N6GL_P_SQtYi"
      }
    },
    {
      "cell_type": "code",
      "source": [
        "from google.colab import drive\n",
        "drive.mount('/content/drive')"
      ],
      "metadata": {
        "colab": {
          "base_uri": "https://localhost:8080/"
        },
        "id": "a4GuqKIBQy3J",
        "outputId": "2b2f338c-8371-4cb0-d1bb-42d5e37622c0"
      },
      "execution_count": null,
      "outputs": [
        {
          "output_type": "stream",
          "name": "stdout",
          "text": [
            "Mounted at /content/drive\n"
          ]
        }
      ]
    },
    {
      "cell_type": "code",
      "source": [
        "import os\n",
        "db_path = '/content/drive/MyDrive/UniversidadCentral/Maestría_en_Analítica_de_Datos/Bigdata/Ejercicios_de_clase/DataBase/MongoDB/'\n",
        "os.makedirs(db_path, exist_ok=True)\n",
        "!sudo chmod 777 $db_path  #permisos especiales de escritura sobre esa carpeta"
      ],
      "metadata": {
        "id": "JXFRLX-YRV8o"
      },
      "execution_count": null,
      "outputs": []
    },
    {
      "cell_type": "code",
      "source": [
        "#modifico las variables de entorno del SO para que reconozca el servidor\n",
        "!sudo systemctl stop mongod\n",
        "!sudo mongod --dbpath $db_path --fork --logpath /var/log/mongodb/mongod.log"
      ],
      "metadata": {
        "colab": {
          "base_uri": "https://localhost:8080/"
        },
        "id": "4_h7G7AQR9XT",
        "outputId": "057e6c74-18b7-4a04-a09f-f9a74826adbd"
      },
      "execution_count": null,
      "outputs": [
        {
          "output_type": "stream",
          "name": "stdout",
          "text": [
            "System has not been booted with systemd as init system (PID 1). Can't operate.\n",
            "Failed to connect to bus: Host is down\n",
            "about to fork child process, waiting until server is ready for connections.\n",
            "forked process: 3249\n",
            "child process started successfully, parent exiting\n"
          ]
        }
      ]
    },
    {
      "cell_type": "markdown",
      "source": [
        "# 3. inicializar nuestro servidor mongoDB"
      ],
      "metadata": {
        "id": "JPMtcb3GSgEm"
      }
    },
    {
      "cell_type": "code",
      "source": [
        "from pymongo import MongoClient\n",
        "client = MongoClient('localhost',27017)"
      ],
      "metadata": {
        "id": "ajauMBL-Skmf"
      },
      "execution_count": null,
      "outputs": []
    },
    {
      "cell_type": "markdown",
      "source": [
        "## 3.1 crear una base de datos"
      ],
      "metadata": {
        "id": "HaI3x7fcSrf9"
      }
    },
    {
      "cell_type": "code",
      "source": [
        "db = client['estudiantes_Ucentral']"
      ],
      "metadata": {
        "id": "XImX8hwzSuWY"
      },
      "execution_count": null,
      "outputs": []
    },
    {
      "cell_type": "code",
      "source": [
        "# crear colecciones\n",
        "coleccion_profes = db['profesores']\n",
        "coleccion_cursos = db['cursos']"
      ],
      "metadata": {
        "id": "IltVHkOxS1dQ"
      },
      "execution_count": null,
      "outputs": []
    },
    {
      "cell_type": "markdown",
      "source": [
        "## 3.2 funciones DML (insertar, borrar, actualizar)"
      ],
      "metadata": {
        "id": "UWxqz7gpX_JO"
      }
    },
    {
      "cell_type": "code",
      "source": [
        "def buscar_documentos(db, coleccion_nombre, filtro={}, limite=10):\n",
        "  if db is not None:\n",
        "      coleccion = db[coleccion_nombre]\n",
        "      resultados = coleccion.find(filtro).limit(limite)\n",
        "      for doc in resultados:\n",
        "          print(doc)\n",
        "  else:\n",
        "      print(\"No hay conexión a la base de datos.\")\n",
        "\n",
        "def insertar_documento(db, coleccion_nombre, documento):\n",
        "      if db is not None:\n",
        "          coleccion = db[coleccion_nombre]\n",
        "          resultado = coleccion.insert_one(documento)\n",
        "          print(f\"Documento insertado con ID: {resultado.inserted_id}\")\n",
        "      else:\n",
        "          print(\"No hay conexión a la base de datos.\")\n",
        "\n",
        "def actualizar_un_documento(db, coleccion_nombre, filtro, actualizacion):\n",
        "        if db is not None:\n",
        "            coleccion = db[coleccion_nombre]\n",
        "            resultado = coleccion.update_one(filtro, {'$set': actualizacion})\n",
        "            if resultado.modified_count > 0:\n",
        "                print(f\"Documentos modificados: {resultado.modified_count}\")\n",
        "            else:\n",
        "                print(\"No se encontraron documentos para modificar.\")\n",
        "        else:\n",
        "            print(\"No hay conexión a la base de datos.\")\n",
        "def actualizar_varios_documentos(db, coleccion_nombre, filtro, actualizacion):\n",
        "        if db is not None:\n",
        "            coleccion = db[coleccion_nombre]\n",
        "            resultado = coleccion.update_many(filtro, {'$set': actualizacion})\n",
        "            if resultado.modified_count > 0:\n",
        "                print(f\"Documentos modificados: {resultado.modified_count}\")\n",
        "            else:\n",
        "                print(\"No se encontraron documentos para modificar.\")\n",
        "        else:\n",
        "            print(\"No hay conexión a la base de datos.\")\n",
        "def eliminar_varios_documentos(db, coleccion_nombre, filtro):\n",
        "        if db is not None:\n",
        "            coleccion = db[coleccion_nombre]\n",
        "            resultado = coleccion.delete_many(filtro)\n",
        "            if resultado.deleted_count > 0:\n",
        "                print(f\"Documentos eliminados: {resultado.deleted_count}\")\n",
        "            else:\n",
        "                print(\"No se encontraron documentos para eliminar.\")\n",
        "        else:\n",
        "            print(\"No hay conexión a la base de datos.\")"
      ],
      "metadata": {
        "id": "N-j5KNT2YFRP"
      },
      "execution_count": null,
      "outputs": []
    },
    {
      "cell_type": "code",
      "source": [
        "documentoProfe1={\"nombre\":\"luisfdo\",\"apellidos\":\"castellanos guarin\"}\n",
        "documentoProfe2={\"nombre\":\"pepito\",\"apellidos\":\"perez\",\"fechaNacimiento\":\"1980-05-05\"}\n",
        "insertar_documento(db,'profesores',documentoProfe1)\n",
        "insertar_documento(db,'profesores',documentoProfe2)"
      ],
      "metadata": {
        "id": "wI8X0127YhiK"
      },
      "execution_count": null,
      "outputs": []
    },
    {
      "cell_type": "code",
      "source": [
        "buscar_documentos(db,'profesores')"
      ],
      "metadata": {
        "colab": {
          "base_uri": "https://localhost:8080/"
        },
        "id": "f04SRxXNdryO",
        "outputId": "e41f1611-b150-47ab-9224-e3c4e86c47ca"
      },
      "execution_count": null,
      "outputs": [
        {
          "output_type": "stream",
          "name": "stdout",
          "text": [
            "{'_id': ObjectId('68c3723c25037da915378ad1'), 'nombre': 'luis Fernando', 'apellidos': 'castellanos guarin'}\n",
            "{'_id': ObjectId('68c3728a25037da915378ad3'), 'nombre': 'luisfdo', 'apellidos': 'castellanos guarin'}\n"
          ]
        }
      ]
    },
    {
      "cell_type": "code",
      "source": [
        "actualizar_varios_documentos(db,'profesores',{\"nombre\":\"pepito\"},{\"nombre\":\"Pedro Patricio\"})"
      ],
      "metadata": {
        "colab": {
          "base_uri": "https://localhost:8080/"
        },
        "id": "R_ZCwY8jewyk",
        "outputId": "9ae36fb1-33d7-4579-cccd-b4aac56fdd68"
      },
      "execution_count": null,
      "outputs": [
        {
          "output_type": "stream",
          "name": "stdout",
          "text": [
            "Documentos modificados: 2\n"
          ]
        }
      ]
    },
    {
      "cell_type": "code",
      "source": [
        "eliminar_varios_documentos(db,'profesores',{\"apellidos\":\"perez\"})"
      ],
      "metadata": {
        "colab": {
          "base_uri": "https://localhost:8080/"
        },
        "id": "yFZCw2umezk7",
        "outputId": "ed323ab4-2856-4c5e-95cf-e97158917f77"
      },
      "execution_count": null,
      "outputs": [
        {
          "output_type": "stream",
          "name": "stdout",
          "text": [
            "Documentos eliminados: 2\n"
          ]
        }
      ]
    },
    {
      "cell_type": "code",
      "source": [
        "client.close()"
      ],
      "metadata": {
        "id": "XeTUM6-wesWA"
      },
      "execution_count": null,
      "outputs": []
    },
    {
      "cell_type": "markdown",
      "source": [
        "#4 descargar y descomprimir zip"
      ],
      "metadata": {
        "id": "Tlb7E68lhQaE"
      }
    },
    {
      "cell_type": "code",
      "source": [
        "def descargar_y_descomprimir_zip(url, carpeta_destino, tipoArchivo=''):\n",
        "  import os\n",
        "  import io\n",
        "  import zipfile\n",
        "  import requests\n",
        "  os.makedirs(carpeta_destino, exist_ok=True)  #cree la carpeta sino existe\n",
        "  response = requests.get(url)\n",
        "  zip_file = zipfile.ZipFile(io.BytesIO(response.content))\n",
        "  if (tipoArchivo == ''):\n",
        "    zip_file.extractall(carpeta_destino) #exportar .zip a la carpeta\n",
        "  else:\n",
        "    for nombre_archivo in zip_file.namelist():\n",
        "      if nombre_archivo.endswith(tipoArchivo):\n",
        "        zip_file.extract(nombre_archivo, carpeta_destino)\n"
      ],
      "metadata": {
        "id": "l2X1vrwQhXAa"
      },
      "execution_count": null,
      "outputs": []
    },
    {
      "cell_type": "code",
      "source": [
        "carpeta_destino =\"/content/drive/MyDrive/UniversidadCentral/Maestría_en_Analítica_de_Datos/Bigdata/Ejercicios_de_clase/DataBase/zip_files/\"\n",
        "url             =\"https://archive.ics.uci.edu/ml/machine-learning-databases/00320/student.zip\"\n",
        "descargar_y_descomprimir_zip(url,carpeta_destino)"
      ],
      "metadata": {
        "id": "7QnthjxViyEp"
      },
      "execution_count": null,
      "outputs": []
    },
    {
      "cell_type": "markdown",
      "source": [
        "# 5.Procesar data descargada y cargar a una coleccion"
      ],
      "metadata": {
        "id": "m16lzV0LjsGb"
      }
    },
    {
      "cell_type": "code",
      "source": [
        "import re\n",
        "def procesar_txt_diccionario_separados_por_espacio(data_diccionario):\n",
        "  lineas=data_diccionario.strip().split('\\n')\n",
        "  #---listar\n",
        "  documentos=[]\n",
        "  for linea in lineas:\n",
        "    match = re.match('^\\d+\\s+(.+?)\\s*-\\s*(.+)$',linea)\n",
        "    if match:\n",
        "      clave= match.group(1)\n",
        "      valor= match.group(2)\n",
        "      documentos.append({\"clave\":clave, \"valor\":valor})\n",
        "  return documentos"
      ],
      "metadata": {
        "colab": {
          "base_uri": "https://localhost:8080/"
        },
        "id": "2WHDFmOJj0F6",
        "outputId": "02bb6a09-5833-4ef7-9af5-36a52fb7b6f6"
      },
      "execution_count": null,
      "outputs": [
        {
          "output_type": "stream",
          "name": "stderr",
          "text": [
            "<>:7: SyntaxWarning: invalid escape sequence '\\d'\n",
            "<>:7: SyntaxWarning: invalid escape sequence '\\d'\n",
            "/tmp/ipython-input-3213823221.py:7: SyntaxWarning: invalid escape sequence '\\d'\n",
            "  match = re.match('^\\d+\\s+(.+?)\\s*-\\s*(.+)$',linea)\n"
          ]
        }
      ]
    },
    {
      "cell_type": "code",
      "source": [
        "with open(carpeta_destino+'student.txt', 'r') as archivo:\n",
        "    data_diccionario = archivo.read()\n",
        "documentos=procesar_txt_diccionario_separados_por_espacio(data_diccionario)\n",
        "print(documentos)"
      ],
      "metadata": {
        "colab": {
          "base_uri": "https://localhost:8080/"
        },
        "id": "hYek4CWdk7vf",
        "outputId": "f6bffc40-1255-4213-d4fb-ba1211993138"
      },
      "execution_count": null,
      "outputs": [
        {
          "output_type": "stream",
          "name": "stdout",
          "text": [
            "[{'clave': 'school', 'valor': 'student\\'s school (binary: \"GP\" - Gabriel Pereira or \"MS\" - Mousinho da Silveira)'}, {'clave': 'sex', 'valor': 'student\\'s sex (binary: \"F\" - female or \"M\" - male)'}, {'clave': 'age', 'valor': \"student's age (numeric: from 15 to 22)\"}, {'clave': 'address', 'valor': 'student\\'s home address type (binary: \"U\" - urban or \"R\" - rural)'}, {'clave': 'famsize', 'valor': 'family size (binary: \"LE3\" - less or equal to 3 or \"GT3\" - greater than 3)'}, {'clave': 'Pstatus', 'valor': 'parent\\'s cohabitation status (binary: \"T\" - living together or \"A\" - apart)'}, {'clave': 'Medu', 'valor': \"mother's education (numeric: 0 - none,  1 - primary education (4th grade), 2 – 5th to 9th grade, 3 – secondary education or 4 – higher education)\"}, {'clave': 'Fedu', 'valor': \"father's education (numeric: 0 - none,  1 - primary education (4th grade), 2 – 5th to 9th grade, 3 – secondary education or 4 – higher education)\"}, {'clave': 'Mjob', 'valor': 'mother\\'s job (nominal: \"teacher\", \"health\" care related, civil \"services\" (e.g. administrative or police), \"at_home\" or \"other\")'}, {'clave': 'Fjob', 'valor': 'father\\'s job (nominal: \"teacher\", \"health\" care related, civil \"services\" (e.g. administrative or police), \"at_home\" or \"other\")'}, {'clave': 'reason', 'valor': 'reason to choose this school (nominal: close to \"home\", school \"reputation\", \"course\" preference or \"other\")'}, {'clave': 'guardian', 'valor': 'student\\'s guardian (nominal: \"mother\", \"father\" or \"other\")'}, {'clave': 'traveltime', 'valor': 'home to school travel time (numeric: 1 - <15 min., 2 - 15 to 30 min., 3 - 30 min. to 1 hour, or 4 - >1 hour)'}, {'clave': 'studytime', 'valor': 'weekly study time (numeric: 1 - <2 hours, 2 - 2 to 5 hours, 3 - 5 to 10 hours, or 4 - >10 hours)'}, {'clave': 'failures', 'valor': 'number of past class failures (numeric: n if 1<=n<3, else 4)'}, {'clave': 'schoolsup', 'valor': 'extra educational support (binary: yes or no)'}, {'clave': 'famsup', 'valor': 'family educational support (binary: yes or no)'}, {'clave': 'paid', 'valor': 'extra paid classes within the course subject (Math or Portuguese) (binary: yes or no)'}, {'clave': 'activities', 'valor': 'extra-curricular activities (binary: yes or no)'}, {'clave': 'nursery', 'valor': 'attended nursery school (binary: yes or no)'}, {'clave': 'higher', 'valor': 'wants to take higher education (binary: yes or no)'}, {'clave': 'internet', 'valor': 'Internet access at home (binary: yes or no)'}, {'clave': 'romantic', 'valor': 'with a romantic relationship (binary: yes or no)'}, {'clave': 'famrel', 'valor': 'quality of family relationships (numeric: from 1 - very bad to 5 - excellent)'}, {'clave': 'freetime', 'valor': 'free time after school (numeric: from 1 - very low to 5 - very high)'}, {'clave': 'goout', 'valor': 'going out with friends (numeric: from 1 - very low to 5 - very high)'}, {'clave': 'Dalc', 'valor': 'workday alcohol consumption (numeric: from 1 - very low to 5 - very high)'}, {'clave': 'Walc', 'valor': 'weekend alcohol consumption (numeric: from 1 - very low to 5 - very high)'}, {'clave': 'health', 'valor': 'current health status (numeric: from 1 - very bad to 5 - very good)'}, {'clave': 'absences', 'valor': 'number of school absences (numeric: from 0 to 93)'}, {'clave': 'G1', 'valor': 'first period grade (numeric: from 0 to 20)'}, {'clave': 'G2', 'valor': 'second period grade (numeric: from 0 to 20)'}, {'clave': 'G3', 'valor': 'final grade (numeric: from 0 to 20, output target)'}]\n"
          ]
        }
      ]
    },
    {
      "cell_type": "code",
      "source": [
        "db = client['estudiantes_Ucentral']\n",
        "coleccion_estudiantes = db['estudiantes']\n",
        "for documento in documentos:\n",
        "  insertar_documento(db,'estudiantes',documento)"
      ],
      "metadata": {
        "id": "RYoeexgDlhQL"
      },
      "execution_count": null,
      "outputs": []
    },
    {
      "cell_type": "code",
      "source": [
        "buscar_documentos(db,'estudiantes')"
      ],
      "metadata": {
        "id": "9twRw6W_lruY",
        "outputId": "4b64ca22-981e-4083-b15f-e33ee8bd7d41",
        "colab": {
          "base_uri": "https://localhost:8080/"
        }
      },
      "execution_count": null,
      "outputs": [
        {
          "output_type": "stream",
          "name": "stdout",
          "text": [
            "{'_id': ObjectId('68c37a7b25037da915378ad7'), 'clave': 'school', 'valor': 'student\\'s school (binary: \"GP\" - Gabriel Pereira or \"MS\" - Mousinho da Silveira)'}\n",
            "{'_id': ObjectId('68c37a7b25037da915378ad8'), 'clave': 'sex', 'valor': 'student\\'s sex (binary: \"F\" - female or \"M\" - male)'}\n",
            "{'_id': ObjectId('68c37a7b25037da915378ad9'), 'clave': 'age', 'valor': \"student's age (numeric: from 15 to 22)\"}\n",
            "{'_id': ObjectId('68c37a7b25037da915378ada'), 'clave': 'address', 'valor': 'student\\'s home address type (binary: \"U\" - urban or \"R\" - rural)'}\n",
            "{'_id': ObjectId('68c37a7b25037da915378adb'), 'clave': 'famsize', 'valor': 'family size (binary: \"LE3\" - less or equal to 3 or \"GT3\" - greater than 3)'}\n",
            "{'_id': ObjectId('68c37a7b25037da915378adc'), 'clave': 'Pstatus', 'valor': 'parent\\'s cohabitation status (binary: \"T\" - living together or \"A\" - apart)'}\n",
            "{'_id': ObjectId('68c37a7b25037da915378add'), 'clave': 'Medu', 'valor': \"mother's education (numeric: 0 - none,  1 - primary education (4th grade), 2 – 5th to 9th grade, 3 – secondary education or 4 – higher education)\"}\n",
            "{'_id': ObjectId('68c37a7b25037da915378ade'), 'clave': 'Fedu', 'valor': \"father's education (numeric: 0 - none,  1 - primary education (4th grade), 2 – 5th to 9th grade, 3 – secondary education or 4 – higher education)\"}\n",
            "{'_id': ObjectId('68c37a7b25037da915378adf'), 'clave': 'Mjob', 'valor': 'mother\\'s job (nominal: \"teacher\", \"health\" care related, civil \"services\" (e.g. administrative or police), \"at_home\" or \"other\")'}\n",
            "{'_id': ObjectId('68c37a7b25037da915378ae0'), 'clave': 'Fjob', 'valor': 'father\\'s job (nominal: \"teacher\", \"health\" care related, civil \"services\" (e.g. administrative or police), \"at_home\" or \"other\")'}\n"
          ]
        }
      ]
    }
  ]
}